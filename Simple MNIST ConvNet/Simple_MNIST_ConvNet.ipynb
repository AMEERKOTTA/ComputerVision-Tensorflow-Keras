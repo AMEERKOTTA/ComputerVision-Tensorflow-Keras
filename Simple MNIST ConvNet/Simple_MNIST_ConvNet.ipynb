{
  "nbformat": 4,
  "nbformat_minor": 0,
  "metadata": {
    "colab": {
      "name": "Simple MNIST ConvNet.ipynb",
      "provenance": []
    },
    "kernelspec": {
      "name": "python3",
      "display_name": "Python 3"
    },
    "accelerator": "GPU"
  },
  "cells": [
    {
      "cell_type": "markdown",
      "metadata": {
        "id": "kgUZUHhLFuqu"
      },
      "source": [
        "# **Simple MNIST ConvNet**"
      ]
    },
    {
      "cell_type": "markdown",
      "metadata": {
        "id": "a1eZiRH0F6X4"
      },
      "source": [
        "### SetUP"
      ]
    },
    {
      "cell_type": "code",
      "metadata": {
        "id": "vZTXXp9aDPS3"
      },
      "source": [
        "import numpy as np\r\n",
        "from tensorflow import keras\r\n",
        "from tensorflow.keras import layers"
      ],
      "execution_count": 1,
      "outputs": []
    },
    {
      "cell_type": "markdown",
      "metadata": {
        "id": "DGYAB_2WGfa5"
      },
      "source": [
        "### Prepare the DATA"
      ]
    },
    {
      "cell_type": "code",
      "metadata": {
        "colab": {
          "base_uri": "https://localhost:8080/"
        },
        "id": "zT2wucIOGkIQ",
        "outputId": "e1323c8a-cfbc-489f-8821-8045b2f2e233"
      },
      "source": [
        "# Model / Data parameters\r\n",
        "num_classes = 10\r\n",
        "input_shape = (28,28,1)\r\n",
        "\r\n",
        "# the data, split between train and test sets.\r\n",
        "(x_train, y_train), (x_test, y_test) = keras.datasets.mnist.load_data()\r\n",
        "\r\n",
        "# Scale images to [0,1] range\r\n",
        "x_train = x_train.astype(\"float32\") / 255\r\n",
        "x_test = x_test.astype(\"float32\") / 255\r\n",
        "\r\n",
        "# Make sure images have shape of (28,28,1)\r\n",
        "x_train = np.expand_dims(x_train, -1)\r\n",
        "x_test = np.expand_dims(x_test, -1)\r\n",
        "\r\n",
        "# Print shapes of the train and test samples\r\n",
        "print(\"x_train shape:\", x_train.shape)\r\n",
        "print(x_train.shape[0], \"train samples\")\r\n",
        "print(x_test.shape[0], \"test samples\")\r\n",
        "\r\n",
        "# Convert class vectors to binary class metrices\r\n",
        "y_train = keras.utils.to_categorical(y_train, num_classes)\r\n",
        "y_test = keras.utils.to_categorical(y_test, num_classes)"
      ],
      "execution_count": 2,
      "outputs": [
        {
          "output_type": "stream",
          "text": [
            "Downloading data from https://storage.googleapis.com/tensorflow/tf-keras-datasets/mnist.npz\n",
            "11493376/11490434 [==============================] - 0s 0us/step\n",
            "x_train shape: (60000, 28, 28, 1)\n",
            "60000 train samples\n",
            "10000 test samples\n"
          ],
          "name": "stdout"
        }
      ]
    },
    {
      "cell_type": "markdown",
      "metadata": {
        "id": "NAeHV6bdKvTK"
      },
      "source": [
        "### Build the MODEL"
      ]
    },
    {
      "cell_type": "markdown",
      "metadata": {
        "id": "3KcGKkNUOcE6"
      },
      "source": [
        "Building a Convolutional Neural Network having two convolution layers.\r\n",
        "+ Activation Function = ReLU\r\n",
        "+ Dropout = 0.5\r\n",
        "+ In the Output layer, Activation = softmax"
      ]
    },
    {
      "cell_type": "code",
      "metadata": {
        "colab": {
          "base_uri": "https://localhost:8080/"
        },
        "id": "dW6h1H0WKzDW",
        "outputId": "8c6bcaa9-07b3-4ebd-dace-df6384f8c6e6"
      },
      "source": [
        "model = keras.Sequential([\r\n",
        "                          keras.Input(shape = input_shape),\r\n",
        "\r\n",
        "                          layers.Conv2D(32, kernel_size = (3,3), activation = \"relu\"),\r\n",
        "                          layers.MaxPooling2D(pool_size = (2,2)),\r\n",
        "\r\n",
        "                          layers.Conv2D(64, kernel_size = (3,3), activation = \"relu\"),\r\n",
        "                          layers.MaxPooling2D(pool_size = (2,2)),\r\n",
        "\r\n",
        "                          layers.Flatten(),\r\n",
        "                          layers.Dropout(0.5),\r\n",
        "\r\n",
        "                          layers.Dense(num_classes, activation = \"softmax\"),\r\n",
        "\r\n",
        "\r\n",
        "])\r\n",
        "\r\n",
        "model.summary()"
      ],
      "execution_count": 3,
      "outputs": [
        {
          "output_type": "stream",
          "text": [
            "Model: \"sequential\"\n",
            "_________________________________________________________________\n",
            "Layer (type)                 Output Shape              Param #   \n",
            "=================================================================\n",
            "conv2d (Conv2D)              (None, 26, 26, 32)        320       \n",
            "_________________________________________________________________\n",
            "max_pooling2d (MaxPooling2D) (None, 13, 13, 32)        0         \n",
            "_________________________________________________________________\n",
            "conv2d_1 (Conv2D)            (None, 11, 11, 64)        18496     \n",
            "_________________________________________________________________\n",
            "max_pooling2d_1 (MaxPooling2 (None, 5, 5, 64)          0         \n",
            "_________________________________________________________________\n",
            "flatten (Flatten)            (None, 1600)              0         \n",
            "_________________________________________________________________\n",
            "dropout (Dropout)            (None, 1600)              0         \n",
            "_________________________________________________________________\n",
            "dense (Dense)                (None, 10)                16010     \n",
            "=================================================================\n",
            "Total params: 34,826\n",
            "Trainable params: 34,826\n",
            "Non-trainable params: 0\n",
            "_________________________________________________________________\n"
          ],
          "name": "stdout"
        }
      ]
    },
    {
      "cell_type": "markdown",
      "metadata": {
        "id": "hW9CfB2XMQef"
      },
      "source": [
        "### Train the MODEL"
      ]
    },
    {
      "cell_type": "markdown",
      "metadata": {
        "id": "5Hv8X1FXQO8K"
      },
      "source": [
        "Compile the MOdel with\r\n",
        "+ Loss funciton = \"categorical_crossentropy\"\r\n",
        "+ optimizer = \"adam\"\r\n",
        "+ metrics = \"accuracy\"\r\n",
        "\r\n",
        "Model trained with an\r\n",
        "+ epochs of 15\r\n",
        "+ validation split = 0.1"
      ]
    },
    {
      "cell_type": "code",
      "metadata": {
        "colab": {
          "base_uri": "https://localhost:8080/"
        },
        "id": "pAALnrZDMTUS",
        "outputId": "e4576874-d6cb-4adb-91cf-b9eb8d1be931"
      },
      "source": [
        "batch_size = 128\r\n",
        "epochs = 15\r\n",
        "\r\n",
        "model.compile(\r\n",
        "    loss = \"categorical_crossentropy\",\r\n",
        "    optimizer = \"adam\",\r\n",
        "    metrics = [\"accuracy\"]\r\n",
        ")\r\n",
        "\r\n",
        "model.fit(\r\n",
        "    x_train,\r\n",
        "    y_train,\r\n",
        "    batch_size = batch_size,\r\n",
        "    epochs = epochs,\r\n",
        "    validation_split = 0.1\r\n",
        ")"
      ],
      "execution_count": 4,
      "outputs": [
        {
          "output_type": "stream",
          "text": [
            "Epoch 1/15\n",
            "422/422 [==============================] - 9s 5ms/step - loss: 0.7777 - accuracy: 0.7639 - val_loss: 0.0822 - val_accuracy: 0.9790\n",
            "Epoch 2/15\n",
            "422/422 [==============================] - 2s 4ms/step - loss: 0.1211 - accuracy: 0.9634 - val_loss: 0.0638 - val_accuracy: 0.9828\n",
            "Epoch 3/15\n",
            "422/422 [==============================] - 2s 4ms/step - loss: 0.0889 - accuracy: 0.9732 - val_loss: 0.0485 - val_accuracy: 0.9873\n",
            "Epoch 4/15\n",
            "422/422 [==============================] - 2s 4ms/step - loss: 0.0739 - accuracy: 0.9774 - val_loss: 0.0413 - val_accuracy: 0.9893\n",
            "Epoch 5/15\n",
            "422/422 [==============================] - 2s 4ms/step - loss: 0.0630 - accuracy: 0.9808 - val_loss: 0.0386 - val_accuracy: 0.9890\n",
            "Epoch 6/15\n",
            "422/422 [==============================] - 2s 4ms/step - loss: 0.0574 - accuracy: 0.9817 - val_loss: 0.0385 - val_accuracy: 0.9893\n",
            "Epoch 7/15\n",
            "422/422 [==============================] - 2s 4ms/step - loss: 0.0556 - accuracy: 0.9828 - val_loss: 0.0331 - val_accuracy: 0.9898\n",
            "Epoch 8/15\n",
            "422/422 [==============================] - 2s 4ms/step - loss: 0.0465 - accuracy: 0.9849 - val_loss: 0.0372 - val_accuracy: 0.9902\n",
            "Epoch 9/15\n",
            "422/422 [==============================] - 2s 4ms/step - loss: 0.0457 - accuracy: 0.9855 - val_loss: 0.0325 - val_accuracy: 0.9912\n",
            "Epoch 10/15\n",
            "422/422 [==============================] - 2s 4ms/step - loss: 0.0431 - accuracy: 0.9866 - val_loss: 0.0329 - val_accuracy: 0.9912\n",
            "Epoch 11/15\n",
            "422/422 [==============================] - 2s 4ms/step - loss: 0.0398 - accuracy: 0.9879 - val_loss: 0.0305 - val_accuracy: 0.9908\n",
            "Epoch 12/15\n",
            "422/422 [==============================] - 2s 4ms/step - loss: 0.0369 - accuracy: 0.9887 - val_loss: 0.0278 - val_accuracy: 0.9918\n",
            "Epoch 13/15\n",
            "422/422 [==============================] - 2s 4ms/step - loss: 0.0359 - accuracy: 0.9884 - val_loss: 0.0313 - val_accuracy: 0.9920\n",
            "Epoch 14/15\n",
            "422/422 [==============================] - 2s 4ms/step - loss: 0.0312 - accuracy: 0.9896 - val_loss: 0.0282 - val_accuracy: 0.9917\n",
            "Epoch 15/15\n",
            "422/422 [==============================] - 2s 4ms/step - loss: 0.0320 - accuracy: 0.9891 - val_loss: 0.0268 - val_accuracy: 0.9918\n"
          ],
          "name": "stdout"
        },
        {
          "output_type": "execute_result",
          "data": {
            "text/plain": [
              "<tensorflow.python.keras.callbacks.History at 0x7f6d60254b70>"
            ]
          },
          "metadata": {
            "tags": []
          },
          "execution_count": 4
        }
      ]
    },
    {
      "cell_type": "markdown",
      "metadata": {
        "id": "9hGGC5MzN2dD"
      },
      "source": [
        "Here, the Model is achieved an Accuracy of 98% on the training set. And a 99% on the Validation Accuracy. So the MOdel is Perfoming very well without Overfiting the Training Data."
      ]
    },
    {
      "cell_type": "markdown",
      "metadata": {
        "id": "PdwMhh8QNUbG"
      },
      "source": [
        "### Evaluate the MODEL"
      ]
    },
    {
      "cell_type": "code",
      "metadata": {
        "colab": {
          "base_uri": "https://localhost:8080/"
        },
        "id": "99fd_o82NXu_",
        "outputId": "767d9cb5-e984-4d17-9120-f43ac46b7a71"
      },
      "source": [
        "score = model.evaluate(x_test,\r\n",
        "                       y_test,\r\n",
        "                       verbose = 0)\r\n",
        "\r\n",
        "print(\"Test Loss:\", score[0])\r\n",
        "print(\"Test Accuracy:\", score[1])"
      ],
      "execution_count": 6,
      "outputs": [
        {
          "output_type": "stream",
          "text": [
            "Test Loss: 0.024167271330952644\n",
            "Test Accuracy: 0.9915000200271606\n"
          ],
          "name": "stdout"
        }
      ]
    },
    {
      "cell_type": "markdown",
      "metadata": {
        "id": "jsTKgTDvQuIn"
      },
      "source": [
        "Here the Test Loss is Very Less and Model generalizes very well for out of samples testing with a Testing Accuracy of 99%.\r\n",
        "+ So we can rely upon this Model to classify the MNIST datasets.\r\n",
        "+ And this is a MOdel which can Developed and Deployed in Future."
      ]
    },
    {
      "cell_type": "markdown",
      "metadata": {
        "id": "4bNoQBCeSWY6"
      },
      "source": [
        "### Three Layered ConvNet"
      ]
    },
    {
      "cell_type": "code",
      "metadata": {
        "colab": {
          "base_uri": "https://localhost:8080/"
        },
        "id": "leQMR9RfRVjw",
        "outputId": "5a544e5b-fbbf-4992-9edb-e7ce2bec86b9"
      },
      "source": [
        "model = keras.Sequential([\r\n",
        "                          keras.Input(shape = input_shape),\r\n",
        "\r\n",
        "                          layers.Conv2D(32, kernel_size = (3,3), activation = \"relu\"),\r\n",
        "                          layers.MaxPooling2D(pool_size = (2,2)),\r\n",
        "\r\n",
        "                          layers.Conv2D(64, kernel_size = (3,3), activation = \"relu\"),\r\n",
        "                          layers.MaxPooling2D(pool_size = (2,2)),\r\n",
        "\r\n",
        "                          layers.Conv2D(128, kernel_size = (3,3), activation = \"relu\"),\r\n",
        "                          layers.MaxPooling2D(pool_size = (2,2)),\r\n",
        "\r\n",
        "                          layers.Flatten(),\r\n",
        "                          layers.Dropout(0.5),\r\n",
        "\r\n",
        "                          layers.Dense(num_classes, activation = \"softmax\"),\r\n",
        "\r\n",
        "\r\n",
        "])\r\n",
        "\r\n",
        "model.summary()"
      ],
      "execution_count": 8,
      "outputs": [
        {
          "output_type": "stream",
          "text": [
            "Model: \"sequential_1\"\n",
            "_________________________________________________________________\n",
            "Layer (type)                 Output Shape              Param #   \n",
            "=================================================================\n",
            "conv2d_2 (Conv2D)            (None, 26, 26, 32)        320       \n",
            "_________________________________________________________________\n",
            "max_pooling2d_2 (MaxPooling2 (None, 13, 13, 32)        0         \n",
            "_________________________________________________________________\n",
            "conv2d_3 (Conv2D)            (None, 11, 11, 64)        18496     \n",
            "_________________________________________________________________\n",
            "max_pooling2d_3 (MaxPooling2 (None, 5, 5, 64)          0         \n",
            "_________________________________________________________________\n",
            "conv2d_4 (Conv2D)            (None, 3, 3, 128)         73856     \n",
            "_________________________________________________________________\n",
            "max_pooling2d_4 (MaxPooling2 (None, 1, 1, 128)         0         \n",
            "_________________________________________________________________\n",
            "flatten_1 (Flatten)          (None, 128)               0         \n",
            "_________________________________________________________________\n",
            "dropout_1 (Dropout)          (None, 128)               0         \n",
            "_________________________________________________________________\n",
            "dense_1 (Dense)              (None, 10)                1290      \n",
            "=================================================================\n",
            "Total params: 93,962\n",
            "Trainable params: 93,962\n",
            "Non-trainable params: 0\n",
            "_________________________________________________________________\n"
          ],
          "name": "stdout"
        }
      ]
    },
    {
      "cell_type": "code",
      "metadata": {
        "colab": {
          "base_uri": "https://localhost:8080/"
        },
        "id": "R-Tmf_NzRjKf",
        "outputId": "6cc5847d-0ab1-47c5-e72c-9f5245cf65ea"
      },
      "source": [
        "batch_size = 128\r\n",
        "epochs = 15\r\n",
        "\r\n",
        "model.compile(\r\n",
        "    loss = \"categorical_crossentropy\",\r\n",
        "    optimizer = \"adam\",\r\n",
        "    metrics = [\"accuracy\"]\r\n",
        ")\r\n",
        "\r\n",
        "model.fit(\r\n",
        "    x_train,\r\n",
        "    y_train,\r\n",
        "    batch_size = batch_size,\r\n",
        "    epochs = epochs,\r\n",
        "    validation_split = 0.1\r\n",
        ")"
      ],
      "execution_count": 9,
      "outputs": [
        {
          "output_type": "stream",
          "text": [
            "Epoch 1/15\n",
            "422/422 [==============================] - 3s 5ms/step - loss: 0.8804 - accuracy: 0.7199 - val_loss: 0.1075 - val_accuracy: 0.9685\n",
            "Epoch 2/15\n",
            "422/422 [==============================] - 2s 4ms/step - loss: 0.1867 - accuracy: 0.9440 - val_loss: 0.0743 - val_accuracy: 0.9778\n",
            "Epoch 3/15\n",
            "422/422 [==============================] - 2s 4ms/step - loss: 0.1323 - accuracy: 0.9610 - val_loss: 0.0583 - val_accuracy: 0.9828\n",
            "Epoch 4/15\n",
            "422/422 [==============================] - 2s 4ms/step - loss: 0.1068 - accuracy: 0.9686 - val_loss: 0.0509 - val_accuracy: 0.9848\n",
            "Epoch 5/15\n",
            "422/422 [==============================] - 2s 4ms/step - loss: 0.0896 - accuracy: 0.9730 - val_loss: 0.0476 - val_accuracy: 0.9848\n",
            "Epoch 6/15\n",
            "422/422 [==============================] - 2s 4ms/step - loss: 0.0797 - accuracy: 0.9758 - val_loss: 0.0439 - val_accuracy: 0.9860\n",
            "Epoch 7/15\n",
            "422/422 [==============================] - 2s 4ms/step - loss: 0.0728 - accuracy: 0.9786 - val_loss: 0.0417 - val_accuracy: 0.9880\n",
            "Epoch 8/15\n",
            "422/422 [==============================] - 2s 4ms/step - loss: 0.0650 - accuracy: 0.9808 - val_loss: 0.0366 - val_accuracy: 0.9893\n",
            "Epoch 9/15\n",
            "422/422 [==============================] - 2s 4ms/step - loss: 0.0591 - accuracy: 0.9827 - val_loss: 0.0411 - val_accuracy: 0.9898\n",
            "Epoch 10/15\n",
            "422/422 [==============================] - 2s 4ms/step - loss: 0.0575 - accuracy: 0.9818 - val_loss: 0.0422 - val_accuracy: 0.9883\n",
            "Epoch 11/15\n",
            "422/422 [==============================] - 2s 4ms/step - loss: 0.0526 - accuracy: 0.9838 - val_loss: 0.0378 - val_accuracy: 0.9902\n",
            "Epoch 12/15\n",
            "422/422 [==============================] - 2s 4ms/step - loss: 0.0468 - accuracy: 0.9855 - val_loss: 0.0354 - val_accuracy: 0.9912\n",
            "Epoch 13/15\n",
            "422/422 [==============================] - 2s 4ms/step - loss: 0.0436 - accuracy: 0.9868 - val_loss: 0.0370 - val_accuracy: 0.9907\n",
            "Epoch 14/15\n",
            "422/422 [==============================] - 2s 4ms/step - loss: 0.0443 - accuracy: 0.9862 - val_loss: 0.0324 - val_accuracy: 0.9922\n",
            "Epoch 15/15\n",
            "422/422 [==============================] - 2s 4ms/step - loss: 0.0417 - accuracy: 0.9867 - val_loss: 0.0401 - val_accuracy: 0.9898\n"
          ],
          "name": "stdout"
        },
        {
          "output_type": "execute_result",
          "data": {
            "text/plain": [
              "<tensorflow.python.keras.callbacks.History at 0x7f6d0fffd1d0>"
            ]
          },
          "metadata": {
            "tags": []
          },
          "execution_count": 9
        }
      ]
    },
    {
      "cell_type": "code",
      "metadata": {
        "colab": {
          "base_uri": "https://localhost:8080/"
        },
        "id": "KNKMwGcDR0XN",
        "outputId": "c7f284ab-4e42-468e-da3e-a4ae30310c1a"
      },
      "source": [
        "score = model.evaluate(x_test,\r\n",
        "                       y_test,\r\n",
        "                       verbose = 0)\r\n",
        "\r\n",
        "print(\"Test Loss:\", score[0])\r\n",
        "print(\"Test Accuracy:\", score[1])"
      ],
      "execution_count": 10,
      "outputs": [
        {
          "output_type": "stream",
          "text": [
            "Test Loss: 0.046183619648218155\n",
            "Test Accuracy: 0.9872000217437744\n"
          ],
          "name": "stdout"
        }
      ]
    },
    {
      "cell_type": "markdown",
      "metadata": {
        "id": "mkMovJqKSCQT"
      },
      "source": [
        "Here, the test Accuracy is Reduced to 98%.\r\n",
        "+ So Simple ConvNet with Two Layers is Ideal for this Classification."
      ]
    },
    {
      "cell_type": "markdown",
      "metadata": {
        "id": "ZbCVucLlThrT"
      },
      "source": [
        "### Using Softmax function in the Dense Layer."
      ]
    },
    {
      "cell_type": "code",
      "metadata": {
        "colab": {
          "base_uri": "https://localhost:8080/"
        },
        "id": "BGtKAP_IR_Ul",
        "outputId": "b1d863e9-4c50-4460-e23b-7636ff207d70"
      },
      "source": [
        "model = keras.Sequential([\r\n",
        "                          keras.Input(shape = input_shape),\r\n",
        "\r\n",
        "                          layers.Conv2D(32, kernel_size = (3,3), activation = \"relu\"),\r\n",
        "                          layers.MaxPooling2D(pool_size = (2,2)),\r\n",
        "\r\n",
        "                          layers.Conv2D(64, kernel_size = (3,3), activation = \"relu\"),\r\n",
        "                          layers.MaxPooling2D(pool_size = (2,2)),\r\n",
        "\r\n",
        "                          layers.Flatten(),\r\n",
        "                          layers.Dropout(0.5),\r\n",
        "\r\n",
        "                          layers.Dense(num_classes, activation = \"sigmoid\"),\r\n",
        "\r\n",
        "\r\n",
        "])\r\n",
        "\r\n",
        "model.summary()"
      ],
      "execution_count": 11,
      "outputs": [
        {
          "output_type": "stream",
          "text": [
            "Model: \"sequential_2\"\n",
            "_________________________________________________________________\n",
            "Layer (type)                 Output Shape              Param #   \n",
            "=================================================================\n",
            "conv2d_5 (Conv2D)            (None, 26, 26, 32)        320       \n",
            "_________________________________________________________________\n",
            "max_pooling2d_5 (MaxPooling2 (None, 13, 13, 32)        0         \n",
            "_________________________________________________________________\n",
            "conv2d_6 (Conv2D)            (None, 11, 11, 64)        18496     \n",
            "_________________________________________________________________\n",
            "max_pooling2d_6 (MaxPooling2 (None, 5, 5, 64)          0         \n",
            "_________________________________________________________________\n",
            "flatten_2 (Flatten)          (None, 1600)              0         \n",
            "_________________________________________________________________\n",
            "dropout_2 (Dropout)          (None, 1600)              0         \n",
            "_________________________________________________________________\n",
            "dense_2 (Dense)              (None, 10)                16010     \n",
            "=================================================================\n",
            "Total params: 34,826\n",
            "Trainable params: 34,826\n",
            "Non-trainable params: 0\n",
            "_________________________________________________________________\n"
          ],
          "name": "stdout"
        }
      ]
    },
    {
      "cell_type": "code",
      "metadata": {
        "colab": {
          "base_uri": "https://localhost:8080/"
        },
        "id": "4s4yqK5MTMn3",
        "outputId": "8c79e310-d794-4c80-9f2c-a522a110d948"
      },
      "source": [
        "batch_size = 128\r\n",
        "epochs = 15\r\n",
        "\r\n",
        "model.compile(\r\n",
        "    loss = \"categorical_crossentropy\",\r\n",
        "    optimizer = \"adam\",\r\n",
        "    metrics = [\"accuracy\"]\r\n",
        ")\r\n",
        "\r\n",
        "model.fit(\r\n",
        "    x_train,\r\n",
        "    y_train,\r\n",
        "    batch_size = batch_size,\r\n",
        "    epochs = epochs,\r\n",
        "    validation_split = 0.1\r\n",
        ")"
      ],
      "execution_count": 12,
      "outputs": [
        {
          "output_type": "stream",
          "text": [
            "Epoch 1/15\n",
            "422/422 [==============================] - 2s 4ms/step - loss: 0.7461 - accuracy: 0.7663 - val_loss: 0.0908 - val_accuracy: 0.9745\n",
            "Epoch 2/15\n",
            "422/422 [==============================] - 2s 4ms/step - loss: 0.1301 - accuracy: 0.9608 - val_loss: 0.0594 - val_accuracy: 0.9847\n",
            "Epoch 3/15\n",
            "422/422 [==============================] - 2s 4ms/step - loss: 0.0913 - accuracy: 0.9736 - val_loss: 0.0518 - val_accuracy: 0.9853\n",
            "Epoch 4/15\n",
            "422/422 [==============================] - 2s 4ms/step - loss: 0.0771 - accuracy: 0.9762 - val_loss: 0.0500 - val_accuracy: 0.9845\n",
            "Epoch 5/15\n",
            "422/422 [==============================] - 2s 4ms/step - loss: 0.0647 - accuracy: 0.9792 - val_loss: 0.0389 - val_accuracy: 0.9898\n",
            "Epoch 6/15\n",
            "422/422 [==============================] - 2s 4ms/step - loss: 0.0562 - accuracy: 0.9815 - val_loss: 0.0426 - val_accuracy: 0.9878\n",
            "Epoch 7/15\n",
            "422/422 [==============================] - 2s 4ms/step - loss: 0.0542 - accuracy: 0.9829 - val_loss: 0.0344 - val_accuracy: 0.9905\n",
            "Epoch 8/15\n",
            "422/422 [==============================] - 2s 4ms/step - loss: 0.0475 - accuracy: 0.9853 - val_loss: 0.0336 - val_accuracy: 0.9902\n",
            "Epoch 9/15\n",
            "422/422 [==============================] - 2s 4ms/step - loss: 0.0485 - accuracy: 0.9847 - val_loss: 0.0328 - val_accuracy: 0.9910\n",
            "Epoch 10/15\n",
            "422/422 [==============================] - 2s 4ms/step - loss: 0.0446 - accuracy: 0.9853 - val_loss: 0.0310 - val_accuracy: 0.9912\n",
            "Epoch 11/15\n",
            "422/422 [==============================] - 2s 4ms/step - loss: 0.0397 - accuracy: 0.9876 - val_loss: 0.0305 - val_accuracy: 0.9917\n",
            "Epoch 12/15\n",
            "422/422 [==============================] - 2s 4ms/step - loss: 0.0384 - accuracy: 0.9876 - val_loss: 0.0284 - val_accuracy: 0.9917\n",
            "Epoch 13/15\n",
            "422/422 [==============================] - 2s 4ms/step - loss: 0.0330 - accuracy: 0.9900 - val_loss: 0.0301 - val_accuracy: 0.9913\n",
            "Epoch 14/15\n",
            "422/422 [==============================] - 2s 4ms/step - loss: 0.0352 - accuracy: 0.9885 - val_loss: 0.0293 - val_accuracy: 0.9912\n",
            "Epoch 15/15\n",
            "422/422 [==============================] - 2s 4ms/step - loss: 0.0354 - accuracy: 0.9882 - val_loss: 0.0289 - val_accuracy: 0.9927\n"
          ],
          "name": "stdout"
        },
        {
          "output_type": "execute_result",
          "data": {
            "text/plain": [
              "<tensorflow.python.keras.callbacks.History at 0x7f6d0ee1c6d8>"
            ]
          },
          "metadata": {
            "tags": []
          },
          "execution_count": 12
        }
      ]
    },
    {
      "cell_type": "code",
      "metadata": {
        "colab": {
          "base_uri": "https://localhost:8080/"
        },
        "id": "Rxo4TAxjTcp3",
        "outputId": "af62aac8-6d54-4f7b-f1ff-cfcc79d42e01"
      },
      "source": [
        "score = model.evaluate(x_test,\r\n",
        "                       y_test,\r\n",
        "                       verbose = 0)\r\n",
        "\r\n",
        "print(\"Test Loss:\", score[0])\r\n",
        "print(\"Test Accuracy:\", score[1])"
      ],
      "execution_count": 13,
      "outputs": [
        {
          "output_type": "stream",
          "text": [
            "Test Loss: 0.025449326261878014\n",
            "Test Accuracy: 0.9915000200271606\n"
          ],
          "name": "stdout"
        }
      ]
    },
    {
      "cell_type": "markdown",
      "metadata": {
        "id": "2G-fxfIFTsNe"
      },
      "source": [
        "Here also we are getting same Perfomance."
      ]
    },
    {
      "cell_type": "code",
      "metadata": {
        "id": "k0Q0CrDBTvvu"
      },
      "source": [
        ""
      ],
      "execution_count": null,
      "outputs": []
    }
  ]
}